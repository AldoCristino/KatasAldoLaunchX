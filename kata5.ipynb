{
 "cells": [
  {
   "cell_type": "markdown",
   "metadata": {},
   "source": [
    "## Ejercicio 1\n"
   ]
  },
  {
   "cell_type": "code",
   "execution_count": 1,
   "metadata": {},
   "outputs": [],
   "source": [
    "tierra = 149597870\n",
    "jupiter = 778547200"
   ]
  },
  {
   "cell_type": "code",
   "execution_count": 6,
   "metadata": {},
   "outputs": [
    {
     "name": "stdout",
     "output_type": "stream",
     "text": [
      "628949330\n",
      "390577534\n"
     ]
    }
   ],
   "source": [
    "diferencia = (jupiter - tierra)\n",
    "print(diferencia)\n",
    "\n",
    "dif_millas = round(diferencia * 0.621)\n",
    "print(dif_millas)"
   ]
  },
  {
   "cell_type": "markdown",
   "metadata": {},
   "source": [
    "## Ejercicio 2\n"
   ]
  },
  {
   "cell_type": "code",
   "execution_count": null,
   "metadata": {},
   "outputs": [],
   "source": [
    "planet1 = int(input(\"Introduce la distancia del sol para el planeta 1\"))\n",
    "planet2 = int(input(\"Introduce la distancia del sol para el planeta 2\"))\n",
    "\n",
    "dife = planet2 - planet1\n",
    "print(str(dife) + \" en km\")\n",
    "\n",
    "dife_millas = dife * 0.621\n",
    "print(str(abs(dife_millas)) + \" en millas\")"
   ]
  }
 ],
 "metadata": {
  "interpreter": {
   "hash": "dca2fe12a1e3e1a19020eb59bb75523e52ea81a7e1f99bed35864ad4fce06d5a"
  },
  "kernelspec": {
   "display_name": "Python 3.10.2 64-bit",
   "language": "python",
   "name": "python3"
  },
  "language_info": {
   "codemirror_mode": {
    "name": "ipython",
    "version": 3
   },
   "file_extension": ".py",
   "mimetype": "text/x-python",
   "name": "python",
   "nbconvert_exporter": "python",
   "pygments_lexer": "ipython3",
   "version": "3.10.2"
  },
  "orig_nbformat": 4
 },
 "nbformat": 4,
 "nbformat_minor": 2
}
