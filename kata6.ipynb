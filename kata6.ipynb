{
 "cells": [
  {
   "cell_type": "markdown",
   "metadata": {},
   "source": [
    "## Ejercicio 1\n"
   ]
  },
  {
   "cell_type": "code",
   "execution_count": 1,
   "metadata": {},
   "outputs": [
    {
     "name": "stdout",
     "output_type": "stream",
     "text": [
      "8\n"
     ]
    }
   ],
   "source": [
    "planets =[\"mercurio\", \"venus\", \"tierra\", \"marte\",\"jupiter\",\"saturno\",\"urano\",\"neptuno\"]\n",
    "print(len(planets))"
   ]
  },
  {
   "cell_type": "code",
   "execution_count": 2,
   "metadata": {},
   "outputs": [
    {
     "name": "stdout",
     "output_type": "stream",
     "text": [
      "9\n"
     ]
    }
   ],
   "source": [
    "planets.append(\"pluton\")\n",
    "print(len(planets))"
   ]
  },
  {
   "cell_type": "markdown",
   "metadata": {},
   "source": [
    "## Ejercicio 2\n"
   ]
  },
  {
   "cell_type": "code",
   "execution_count": null,
   "metadata": {},
   "outputs": [],
   "source": [
    "plan_Usu = input(\"Introduce el nombre del planeta \")\n",
    "\n",
    "plan_index = planets.index(plan_Usu)\n",
    "print(plan_index)\n",
    "\n",
    "print(\"Los planetas mas cercanos al sol son: \")\n",
    "print(planets[0:plan_index])\n",
    "\n",
    "print(\"Los planetas mas alejados del sol son:\")\n",
    "print(planets[plan_index +1:-1])"
   ]
  }
 ],
 "metadata": {
  "interpreter": {
   "hash": "dca2fe12a1e3e1a19020eb59bb75523e52ea81a7e1f99bed35864ad4fce06d5a"
  },
  "kernelspec": {
   "display_name": "Python 3.10.2 64-bit",
   "language": "python",
   "name": "python3"
  },
  "language_info": {
   "codemirror_mode": {
    "name": "ipython",
    "version": 3
   },
   "file_extension": ".py",
   "mimetype": "text/x-python",
   "name": "python",
   "nbconvert_exporter": "python",
   "pygments_lexer": "ipython3",
   "version": "3.10.2"
  },
  "orig_nbformat": 4
 },
 "nbformat": 4,
 "nbformat_minor": 2
}
