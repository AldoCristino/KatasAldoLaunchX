{
 "cells": [
  {
   "cell_type": "markdown",
   "metadata": {},
   "source": [
    "## Ejercico 1\n"
   ]
  },
  {
   "cell_type": "code",
   "execution_count": 2,
   "metadata": {},
   "outputs": [
    {
     "name": "stdout",
     "output_type": "stream",
     "text": [
      "marte\n",
      "2\n"
     ]
    }
   ],
   "source": [
    "dato_marte = {'name': \"marte\", \"lunas\": 2}\n",
    "\n",
    "print(dato_marte[\"name\"])\n",
    "print(dato_marte.get(\"lunas\"))"
   ]
  },
  {
   "cell_type": "code",
   "execution_count": 7,
   "metadata": {},
   "outputs": [
    {
     "name": "stdout",
     "output_type": "stream",
     "text": [
      "marte\n",
      "6752\n"
     ]
    }
   ],
   "source": [
    "dato_marte[\"polar\"]=6752\n",
    "dato_marte.update({\"equitorial\" :6792})\n",
    "\n",
    "print(dato_marte[\"name\"])\n",
    "print(dato_marte.get(\"polar\"))"
   ]
  },
  {
   "cell_type": "markdown",
   "metadata": {},
   "source": [
    "## Ejercicio 2\n"
   ]
  },
  {
   "cell_type": "code",
   "execution_count": 10,
   "metadata": {},
   "outputs": [
    {
     "name": "stdout",
     "output_type": "stream",
     "text": [
      "EL promedio de lunas por planeta es de: 17.833333333333332\n"
     ]
    }
   ],
   "source": [
    "planet_moons = {\n",
    "    'mercury': 0,\n",
    "    'venus': 0,\n",
    "    'earth': 1,\n",
    "    'mars': 2,\n",
    "    'jupiter': 79,\n",
    "    'saturn': 82,\n",
    "    'uranus': 27,\n",
    "    'neptune': 14,\n",
    "    'pluto': 5,\n",
    "    'haumea': 2,\n",
    "    'makemake': 1,\n",
    "    'eris': 1\n",
    "}\n",
    "\n",
    "lunas = planet_moons.values()\n",
    "\n",
    "num_planet = len(planet_moons)\n",
    "num_lunas= 0\n",
    "for luna in lunas:\n",
    "    num_lunas = num_lunas + luna\n",
    "\n",
    "prom_lunas = num_lunas/num_planet\n",
    "\n",
    "print(\"EL promedio de lunas por planeta es de: \" + str(prom_lunas))"
   ]
  }
 ],
 "metadata": {
  "interpreter": {
   "hash": "dca2fe12a1e3e1a19020eb59bb75523e52ea81a7e1f99bed35864ad4fce06d5a"
  },
  "kernelspec": {
   "display_name": "Python 3.10.2 64-bit",
   "language": "python",
   "name": "python3"
  },
  "language_info": {
   "codemirror_mode": {
    "name": "ipython",
    "version": 3
   },
   "file_extension": ".py",
   "mimetype": "text/x-python",
   "name": "python",
   "nbconvert_exporter": "python",
   "pygments_lexer": "ipython3",
   "version": "3.10.2"
  },
  "orig_nbformat": 4
 },
 "nbformat": 4,
 "nbformat_minor": 2
}
